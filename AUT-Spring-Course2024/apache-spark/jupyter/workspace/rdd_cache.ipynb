{
 "cells": [
  {
   "cell_type": "code",
   "execution_count": 1,
   "metadata": {},
   "outputs": [],
   "source": [
    "from pyspark import SparkContext, SparkConf\n",
    "from pyspark.sql import SparkSession\n",
    "from pyspark.sql.types import StructType, StructField, IntegerType, StringType, FloatType\n",
    "from pyspark.sql.functions import *\n",
    "import pandas as pd\n",
    "import matplotlib.pyplot as plt\n",
    "import time\n"
   ]
  },
  {
   "cell_type": "code",
   "execution_count": 2,
   "metadata": {},
   "outputs": [],
   "source": [
    "import os\n",
    "import sys\n",
    "os.environ['PYSPARK_PYTHON'] = sys.executable\n",
    "os.environ['PYSPARK_DRIVER_PYTHON'] = sys.executable\n",
    "# Creating a spark context class\n",
    "sc = SparkContext()\n",
    "\n",
    "# Creating a spark session\n",
    "spark = SparkSession.builder.appName(\"pyspark-notebook\").master(\"spark://spark-master:7077\").config(\"spark.executor.memory\", \"1024m\").getOrCreate()"
   ]
  },
  {
   "cell_type": "code",
   "execution_count": 3,
   "metadata": {},
   "outputs": [
    {
     "data": {
      "text/html": [
       "<style type=\"text/css\">\n",
       "#T_72c79 th {\n",
       "  text-align: left;\n",
       "}\n",
       "#T_72c79_row0_col0, #T_72c79_row0_col1, #T_72c79_row0_col2, #T_72c79_row0_col3, #T_72c79_row0_col4, #T_72c79_row0_col5, #T_72c79_row0_col6, #T_72c79_row0_col7, #T_72c79_row0_col8, #T_72c79_row0_col9, #T_72c79_row0_col10, #T_72c79_row1_col0, #T_72c79_row1_col1, #T_72c79_row1_col2, #T_72c79_row1_col3, #T_72c79_row1_col4, #T_72c79_row1_col5, #T_72c79_row1_col6, #T_72c79_row1_col7, #T_72c79_row1_col8, #T_72c79_row1_col9, #T_72c79_row1_col10, #T_72c79_row2_col0, #T_72c79_row2_col1, #T_72c79_row2_col2, #T_72c79_row2_col3, #T_72c79_row2_col4, #T_72c79_row2_col5, #T_72c79_row2_col6, #T_72c79_row2_col7, #T_72c79_row2_col8, #T_72c79_row2_col9, #T_72c79_row2_col10, #T_72c79_row3_col0, #T_72c79_row3_col1, #T_72c79_row3_col2, #T_72c79_row3_col3, #T_72c79_row3_col4, #T_72c79_row3_col5, #T_72c79_row3_col6, #T_72c79_row3_col7, #T_72c79_row3_col8, #T_72c79_row3_col9, #T_72c79_row3_col10, #T_72c79_row4_col0, #T_72c79_row4_col1, #T_72c79_row4_col2, #T_72c79_row4_col3, #T_72c79_row4_col4, #T_72c79_row4_col5, #T_72c79_row4_col6, #T_72c79_row4_col7, #T_72c79_row4_col8, #T_72c79_row4_col9, #T_72c79_row4_col10, #T_72c79_row5_col0, #T_72c79_row5_col1, #T_72c79_row5_col2, #T_72c79_row5_col3, #T_72c79_row5_col4, #T_72c79_row5_col5, #T_72c79_row5_col6, #T_72c79_row5_col7, #T_72c79_row5_col8, #T_72c79_row5_col9, #T_72c79_row5_col10, #T_72c79_row6_col0, #T_72c79_row6_col1, #T_72c79_row6_col2, #T_72c79_row6_col3, #T_72c79_row6_col4, #T_72c79_row6_col5, #T_72c79_row6_col6, #T_72c79_row6_col7, #T_72c79_row6_col8, #T_72c79_row6_col9, #T_72c79_row6_col10, #T_72c79_row7_col0, #T_72c79_row7_col1, #T_72c79_row7_col2, #T_72c79_row7_col3, #T_72c79_row7_col4, #T_72c79_row7_col5, #T_72c79_row7_col6, #T_72c79_row7_col7, #T_72c79_row7_col8, #T_72c79_row7_col9, #T_72c79_row7_col10, #T_72c79_row8_col0, #T_72c79_row8_col1, #T_72c79_row8_col2, #T_72c79_row8_col3, #T_72c79_row8_col4, #T_72c79_row8_col5, #T_72c79_row8_col6, #T_72c79_row8_col7, #T_72c79_row8_col8, #T_72c79_row8_col9, #T_72c79_row8_col10, #T_72c79_row9_col0, #T_72c79_row9_col1, #T_72c79_row9_col2, #T_72c79_row9_col3, #T_72c79_row9_col4, #T_72c79_row9_col5, #T_72c79_row9_col6, #T_72c79_row9_col7, #T_72c79_row9_col8, #T_72c79_row9_col9, #T_72c79_row9_col10 {\n",
       "  text-align: left;\n",
       "}\n",
       "</style>\n",
       "<table id=\"T_72c79\">\n",
       "  <thead>\n",
       "    <tr>\n",
       "      <th class=\"blank level0\" >&nbsp;</th>\n",
       "      <th id=\"T_72c79_level0_col0\" class=\"col_heading level0 col0\" >work_year</th>\n",
       "      <th id=\"T_72c79_level0_col1\" class=\"col_heading level0 col1\" >experience_level</th>\n",
       "      <th id=\"T_72c79_level0_col2\" class=\"col_heading level0 col2\" >employment_type</th>\n",
       "      <th id=\"T_72c79_level0_col3\" class=\"col_heading level0 col3\" >job_title</th>\n",
       "      <th id=\"T_72c79_level0_col4\" class=\"col_heading level0 col4\" >salary</th>\n",
       "      <th id=\"T_72c79_level0_col5\" class=\"col_heading level0 col5\" >salary_currency</th>\n",
       "      <th id=\"T_72c79_level0_col6\" class=\"col_heading level0 col6\" >salary_in_usd</th>\n",
       "      <th id=\"T_72c79_level0_col7\" class=\"col_heading level0 col7\" >employee_residence</th>\n",
       "      <th id=\"T_72c79_level0_col8\" class=\"col_heading level0 col8\" >remote_ratio</th>\n",
       "      <th id=\"T_72c79_level0_col9\" class=\"col_heading level0 col9\" >company_location</th>\n",
       "      <th id=\"T_72c79_level0_col10\" class=\"col_heading level0 col10\" >company_size</th>\n",
       "    </tr>\n",
       "  </thead>\n",
       "  <tbody>\n",
       "    <tr>\n",
       "      <th id=\"T_72c79_level0_row0\" class=\"row_heading level0 row0\" >0</th>\n",
       "      <td id=\"T_72c79_row0_col0\" class=\"data row0 col0\" >2024</td>\n",
       "      <td id=\"T_72c79_row0_col1\" class=\"data row0 col1\" >SE</td>\n",
       "      <td id=\"T_72c79_row0_col2\" class=\"data row0 col2\" >FT</td>\n",
       "      <td id=\"T_72c79_row0_col3\" class=\"data row0 col3\" >AI Engineer</td>\n",
       "      <td id=\"T_72c79_row0_col4\" class=\"data row0 col4\" >202730</td>\n",
       "      <td id=\"T_72c79_row0_col5\" class=\"data row0 col5\" >USD</td>\n",
       "      <td id=\"T_72c79_row0_col6\" class=\"data row0 col6\" >202730</td>\n",
       "      <td id=\"T_72c79_row0_col7\" class=\"data row0 col7\" >US</td>\n",
       "      <td id=\"T_72c79_row0_col8\" class=\"data row0 col8\" >0</td>\n",
       "      <td id=\"T_72c79_row0_col9\" class=\"data row0 col9\" >US</td>\n",
       "      <td id=\"T_72c79_row0_col10\" class=\"data row0 col10\" >M</td>\n",
       "    </tr>\n",
       "    <tr>\n",
       "      <th id=\"T_72c79_level0_row1\" class=\"row_heading level0 row1\" >1</th>\n",
       "      <td id=\"T_72c79_row1_col0\" class=\"data row1 col0\" >2024</td>\n",
       "      <td id=\"T_72c79_row1_col1\" class=\"data row1 col1\" >SE</td>\n",
       "      <td id=\"T_72c79_row1_col2\" class=\"data row1 col2\" >FT</td>\n",
       "      <td id=\"T_72c79_row1_col3\" class=\"data row1 col3\" >AI Engineer</td>\n",
       "      <td id=\"T_72c79_row1_col4\" class=\"data row1 col4\" >92118</td>\n",
       "      <td id=\"T_72c79_row1_col5\" class=\"data row1 col5\" >USD</td>\n",
       "      <td id=\"T_72c79_row1_col6\" class=\"data row1 col6\" >92118</td>\n",
       "      <td id=\"T_72c79_row1_col7\" class=\"data row1 col7\" >US</td>\n",
       "      <td id=\"T_72c79_row1_col8\" class=\"data row1 col8\" >0</td>\n",
       "      <td id=\"T_72c79_row1_col9\" class=\"data row1 col9\" >US</td>\n",
       "      <td id=\"T_72c79_row1_col10\" class=\"data row1 col10\" >M</td>\n",
       "    </tr>\n",
       "    <tr>\n",
       "      <th id=\"T_72c79_level0_row2\" class=\"row_heading level0 row2\" >2</th>\n",
       "      <td id=\"T_72c79_row2_col0\" class=\"data row2 col0\" >2024</td>\n",
       "      <td id=\"T_72c79_row2_col1\" class=\"data row2 col1\" >SE</td>\n",
       "      <td id=\"T_72c79_row2_col2\" class=\"data row2 col2\" >FT</td>\n",
       "      <td id=\"T_72c79_row2_col3\" class=\"data row2 col3\" >Data Engineer</td>\n",
       "      <td id=\"T_72c79_row2_col4\" class=\"data row2 col4\" >130500</td>\n",
       "      <td id=\"T_72c79_row2_col5\" class=\"data row2 col5\" >USD</td>\n",
       "      <td id=\"T_72c79_row2_col6\" class=\"data row2 col6\" >130500</td>\n",
       "      <td id=\"T_72c79_row2_col7\" class=\"data row2 col7\" >US</td>\n",
       "      <td id=\"T_72c79_row2_col8\" class=\"data row2 col8\" >0</td>\n",
       "      <td id=\"T_72c79_row2_col9\" class=\"data row2 col9\" >US</td>\n",
       "      <td id=\"T_72c79_row2_col10\" class=\"data row2 col10\" >M</td>\n",
       "    </tr>\n",
       "    <tr>\n",
       "      <th id=\"T_72c79_level0_row3\" class=\"row_heading level0 row3\" >3</th>\n",
       "      <td id=\"T_72c79_row3_col0\" class=\"data row3 col0\" >2024</td>\n",
       "      <td id=\"T_72c79_row3_col1\" class=\"data row3 col1\" >SE</td>\n",
       "      <td id=\"T_72c79_row3_col2\" class=\"data row3 col2\" >FT</td>\n",
       "      <td id=\"T_72c79_row3_col3\" class=\"data row3 col3\" >Data Engineer</td>\n",
       "      <td id=\"T_72c79_row3_col4\" class=\"data row3 col4\" >96000</td>\n",
       "      <td id=\"T_72c79_row3_col5\" class=\"data row3 col5\" >USD</td>\n",
       "      <td id=\"T_72c79_row3_col6\" class=\"data row3 col6\" >96000</td>\n",
       "      <td id=\"T_72c79_row3_col7\" class=\"data row3 col7\" >US</td>\n",
       "      <td id=\"T_72c79_row3_col8\" class=\"data row3 col8\" >0</td>\n",
       "      <td id=\"T_72c79_row3_col9\" class=\"data row3 col9\" >US</td>\n",
       "      <td id=\"T_72c79_row3_col10\" class=\"data row3 col10\" >M</td>\n",
       "    </tr>\n",
       "    <tr>\n",
       "      <th id=\"T_72c79_level0_row4\" class=\"row_heading level0 row4\" >4</th>\n",
       "      <td id=\"T_72c79_row4_col0\" class=\"data row4 col0\" >2024</td>\n",
       "      <td id=\"T_72c79_row4_col1\" class=\"data row4 col1\" >SE</td>\n",
       "      <td id=\"T_72c79_row4_col2\" class=\"data row4 col2\" >FT</td>\n",
       "      <td id=\"T_72c79_row4_col3\" class=\"data row4 col3\" >Machine Learning Engineer</td>\n",
       "      <td id=\"T_72c79_row4_col4\" class=\"data row4 col4\" >190000</td>\n",
       "      <td id=\"T_72c79_row4_col5\" class=\"data row4 col5\" >USD</td>\n",
       "      <td id=\"T_72c79_row4_col6\" class=\"data row4 col6\" >190000</td>\n",
       "      <td id=\"T_72c79_row4_col7\" class=\"data row4 col7\" >US</td>\n",
       "      <td id=\"T_72c79_row4_col8\" class=\"data row4 col8\" >0</td>\n",
       "      <td id=\"T_72c79_row4_col9\" class=\"data row4 col9\" >US</td>\n",
       "      <td id=\"T_72c79_row4_col10\" class=\"data row4 col10\" >M</td>\n",
       "    </tr>\n",
       "    <tr>\n",
       "      <th id=\"T_72c79_level0_row5\" class=\"row_heading level0 row5\" >5</th>\n",
       "      <td id=\"T_72c79_row5_col0\" class=\"data row5 col0\" >2024</td>\n",
       "      <td id=\"T_72c79_row5_col1\" class=\"data row5 col1\" >SE</td>\n",
       "      <td id=\"T_72c79_row5_col2\" class=\"data row5 col2\" >FT</td>\n",
       "      <td id=\"T_72c79_row5_col3\" class=\"data row5 col3\" >Machine Learning Engineer</td>\n",
       "      <td id=\"T_72c79_row5_col4\" class=\"data row5 col4\" >160000</td>\n",
       "      <td id=\"T_72c79_row5_col5\" class=\"data row5 col5\" >USD</td>\n",
       "      <td id=\"T_72c79_row5_col6\" class=\"data row5 col6\" >160000</td>\n",
       "      <td id=\"T_72c79_row5_col7\" class=\"data row5 col7\" >US</td>\n",
       "      <td id=\"T_72c79_row5_col8\" class=\"data row5 col8\" >0</td>\n",
       "      <td id=\"T_72c79_row5_col9\" class=\"data row5 col9\" >US</td>\n",
       "      <td id=\"T_72c79_row5_col10\" class=\"data row5 col10\" >M</td>\n",
       "    </tr>\n",
       "    <tr>\n",
       "      <th id=\"T_72c79_level0_row6\" class=\"row_heading level0 row6\" >6</th>\n",
       "      <td id=\"T_72c79_row6_col0\" class=\"data row6 col0\" >2024</td>\n",
       "      <td id=\"T_72c79_row6_col1\" class=\"data row6 col1\" >MI</td>\n",
       "      <td id=\"T_72c79_row6_col2\" class=\"data row6 col2\" >FT</td>\n",
       "      <td id=\"T_72c79_row6_col3\" class=\"data row6 col3\" >ML Engineer</td>\n",
       "      <td id=\"T_72c79_row6_col4\" class=\"data row6 col4\" >400000</td>\n",
       "      <td id=\"T_72c79_row6_col5\" class=\"data row6 col5\" >USD</td>\n",
       "      <td id=\"T_72c79_row6_col6\" class=\"data row6 col6\" >400000</td>\n",
       "      <td id=\"T_72c79_row6_col7\" class=\"data row6 col7\" >US</td>\n",
       "      <td id=\"T_72c79_row6_col8\" class=\"data row6 col8\" >0</td>\n",
       "      <td id=\"T_72c79_row6_col9\" class=\"data row6 col9\" >US</td>\n",
       "      <td id=\"T_72c79_row6_col10\" class=\"data row6 col10\" >M</td>\n",
       "    </tr>\n",
       "    <tr>\n",
       "      <th id=\"T_72c79_level0_row7\" class=\"row_heading level0 row7\" >7</th>\n",
       "      <td id=\"T_72c79_row7_col0\" class=\"data row7 col0\" >2024</td>\n",
       "      <td id=\"T_72c79_row7_col1\" class=\"data row7 col1\" >MI</td>\n",
       "      <td id=\"T_72c79_row7_col2\" class=\"data row7 col2\" >FT</td>\n",
       "      <td id=\"T_72c79_row7_col3\" class=\"data row7 col3\" >ML Engineer</td>\n",
       "      <td id=\"T_72c79_row7_col4\" class=\"data row7 col4\" >65000</td>\n",
       "      <td id=\"T_72c79_row7_col5\" class=\"data row7 col5\" >USD</td>\n",
       "      <td id=\"T_72c79_row7_col6\" class=\"data row7 col6\" >65000</td>\n",
       "      <td id=\"T_72c79_row7_col7\" class=\"data row7 col7\" >US</td>\n",
       "      <td id=\"T_72c79_row7_col8\" class=\"data row7 col8\" >0</td>\n",
       "      <td id=\"T_72c79_row7_col9\" class=\"data row7 col9\" >US</td>\n",
       "      <td id=\"T_72c79_row7_col10\" class=\"data row7 col10\" >M</td>\n",
       "    </tr>\n",
       "    <tr>\n",
       "      <th id=\"T_72c79_level0_row8\" class=\"row_heading level0 row8\" >8</th>\n",
       "      <td id=\"T_72c79_row8_col0\" class=\"data row8 col0\" >2024</td>\n",
       "      <td id=\"T_72c79_row8_col1\" class=\"data row8 col1\" >EN</td>\n",
       "      <td id=\"T_72c79_row8_col2\" class=\"data row8 col2\" >FT</td>\n",
       "      <td id=\"T_72c79_row8_col3\" class=\"data row8 col3\" >Data Analyst</td>\n",
       "      <td id=\"T_72c79_row8_col4\" class=\"data row8 col4\" >101520</td>\n",
       "      <td id=\"T_72c79_row8_col5\" class=\"data row8 col5\" >USD</td>\n",
       "      <td id=\"T_72c79_row8_col6\" class=\"data row8 col6\" >101520</td>\n",
       "      <td id=\"T_72c79_row8_col7\" class=\"data row8 col7\" >US</td>\n",
       "      <td id=\"T_72c79_row8_col8\" class=\"data row8 col8\" >0</td>\n",
       "      <td id=\"T_72c79_row8_col9\" class=\"data row8 col9\" >US</td>\n",
       "      <td id=\"T_72c79_row8_col10\" class=\"data row8 col10\" >M</td>\n",
       "    </tr>\n",
       "    <tr>\n",
       "      <th id=\"T_72c79_level0_row9\" class=\"row_heading level0 row9\" >9</th>\n",
       "      <td id=\"T_72c79_row9_col0\" class=\"data row9 col0\" >2024</td>\n",
       "      <td id=\"T_72c79_row9_col1\" class=\"data row9 col1\" >EN</td>\n",
       "      <td id=\"T_72c79_row9_col2\" class=\"data row9 col2\" >FT</td>\n",
       "      <td id=\"T_72c79_row9_col3\" class=\"data row9 col3\" >Data Analyst</td>\n",
       "      <td id=\"T_72c79_row9_col4\" class=\"data row9 col4\" >45864</td>\n",
       "      <td id=\"T_72c79_row9_col5\" class=\"data row9 col5\" >USD</td>\n",
       "      <td id=\"T_72c79_row9_col6\" class=\"data row9 col6\" >45864</td>\n",
       "      <td id=\"T_72c79_row9_col7\" class=\"data row9 col7\" >US</td>\n",
       "      <td id=\"T_72c79_row9_col8\" class=\"data row9 col8\" >0</td>\n",
       "      <td id=\"T_72c79_row9_col9\" class=\"data row9 col9\" >US</td>\n",
       "      <td id=\"T_72c79_row9_col10\" class=\"data row9 col10\" >M</td>\n",
       "    </tr>\n",
       "  </tbody>\n",
       "</table>\n"
      ],
      "text/plain": [
       "<pandas.io.formats.style.Styler at 0x1c96cdf12a0>"
      ]
     },
     "metadata": {},
     "output_type": "display_data"
    }
   ],
   "source": [
    "file_path = './data/salaries.csv'\n",
    "\n",
    "data_engineer_salary = pd.read_csv(file_path)\n",
    "styled_salaries = data_engineer_salary.head(10).style.set_properties(**{'text-align': 'left'}) \n",
    "styled_salaries.set_table_styles([{'selector': 'th', 'props': [('text-align', 'left')]}])\n",
    "display(styled_salaries)"
   ]
  },
  {
   "cell_type": "code",
   "execution_count": 4,
   "metadata": {},
   "outputs": [],
   "source": [
    "schema = StructType([\n",
    "    StructField(\"work_year\", IntegerType(), True),\n",
    "    StructField(\"experience_level\", StringType(), True),\n",
    "    StructField(\"employment_type\", StringType(), True),\n",
    "    StructField(\"job_title\", StringType(), True),\n",
    "    StructField(\"salary\", IntegerType(), True),\n",
    "    StructField(\"salary_currency\", StringType(), True),\n",
    "    StructField(\"salary_in_usd\", IntegerType(), True),\n",
    "    StructField(\"employee_residence\", StringType(), True),\n",
    "    StructField(\"remote_ratio\", IntegerType(), True),\n",
    "    StructField(\"company_location\", StringType(), True),\n",
    "    StructField(\"company_size\", StringType(), True)\n",
    "])"
   ]
  },
  {
   "cell_type": "code",
   "execution_count": 5,
   "metadata": {},
   "outputs": [
    {
     "name": "stdout",
     "output_type": "stream",
     "text": [
      "root\n",
      " |-- work_year: integer (nullable = true)\n",
      " |-- experience_level: string (nullable = true)\n",
      " |-- employment_type: string (nullable = true)\n",
      " |-- job_title: string (nullable = true)\n",
      " |-- salary: integer (nullable = true)\n",
      " |-- salary_currency: string (nullable = true)\n",
      " |-- salary_in_usd: integer (nullable = true)\n",
      " |-- employee_residence: string (nullable = true)\n",
      " |-- remote_ratio: integer (nullable = true)\n",
      " |-- company_location: string (nullable = true)\n",
      " |-- company_size: string (nullable = true)\n",
      "\n"
     ]
    }
   ],
   "source": [
    "salaries_df = spark.createDataFrame(data_engineer_salary.values.tolist(), schema=schema)\n",
    "\n",
    "salaries_df.printSchema()"
   ]
  },
  {
   "cell_type": "code",
   "execution_count": 10,
   "metadata": {},
   "outputs": [],
   "source": [
    "rdd = salaries_df.rdd"
   ]
  },
  {
   "cell_type": "code",
   "execution_count": 16,
   "metadata": {},
   "outputs": [],
   "source": [
    "\n",
    "def testing_operation(row):\n",
    "    avg_salary_usa  = 60000\n",
    "    profit_rate = row['salary'] * row['work_year']  / avg_salary_usa ** 2"
   ]
  },
  {
   "cell_type": "markdown",
   "metadata": {},
   "source": [
    "RDD Without caching"
   ]
  },
  {
   "cell_type": "code",
   "execution_count": 18,
   "metadata": {},
   "outputs": [
    {
     "name": "stdout",
     "output_type": "stream",
     "text": [
      "profit_rate Calculation time: 42.813623905181885 seconds\n"
     ]
    }
   ],
   "source": [
    "start_time = time.time()\n",
    "rdd.map(testing_operation).collect()\n",
    "end_time = time.time()\n",
    "print(f\"profit_rate Calculation time: {end_time - start_time} seconds\")\n"
   ]
  },
  {
   "cell_type": "markdown",
   "metadata": {},
   "source": [
    "RDD + Cache"
   ]
  },
  {
   "cell_type": "code",
   "execution_count": 21,
   "metadata": {},
   "outputs": [
    {
     "name": "stdout",
     "output_type": "stream",
     "text": [
      "profit_rate Calculation time: 19.934429168701172 seconds\n"
     ]
    }
   ],
   "source": [
    "rdd.cache()\n",
    "start_time = time.time()\n",
    "rdd.map(testing_operation).collect()\n",
    "end_time = time.time()\n",
    "print(f\"profit_rate Calculation time: {end_time - start_time} seconds\")"
   ]
  }
 ],
 "metadata": {
  "kernelspec": {
   "display_name": "base",
   "language": "python",
   "name": "python3"
  },
  "language_info": {
   "codemirror_mode": {
    "name": "ipython",
    "version": 3
   },
   "file_extension": ".py",
   "mimetype": "text/x-python",
   "name": "python",
   "nbconvert_exporter": "python",
   "pygments_lexer": "ipython3",
   "version": "3.10.9"
  }
 },
 "nbformat": 4,
 "nbformat_minor": 2
}
